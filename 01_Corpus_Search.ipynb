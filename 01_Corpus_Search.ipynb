{
 "cells": [
  {
   "cell_type": "markdown",
   "metadata": {},
   "source": [
    "# Greek Lexical Corpus Extraction\n",
    "\n",
    "Script for combing through the downloaded corpus files for specific consonants in initial position. Depending on the corpus design the code changes slightly. (Un)Comment the needed lines depending on the corpus."
   ]
  },
  {
   "cell_type": "code",
   "execution_count": 15,
   "metadata": {},
   "outputs": [
    {
     "data": {
      "text/html": [
       "<div>\n",
       "<style scoped>\n",
       "    .dataframe tbody tr th:only-of-type {\n",
       "        vertical-align: middle;\n",
       "    }\n",
       "\n",
       "    .dataframe tbody tr th {\n",
       "        vertical-align: top;\n",
       "    }\n",
       "\n",
       "    .dataframe thead th {\n",
       "        text-align: right;\n",
       "    }\n",
       "</style>\n",
       "<table border=\"1\" class=\"dataframe\">\n",
       "  <thead>\n",
       "    <tr style=\"text-align: right;\">\n",
       "      <th></th>\n",
       "      <th>ID</th>\n",
       "      <th>Word</th>\n",
       "      <th>FREQcount</th>\n",
       "      <th>CD</th>\n",
       "      <th>SUBTLEX_WF</th>\n",
       "      <th>Lg10WF</th>\n",
       "      <th>SUBTLEX_CD</th>\n",
       "      <th>Lg10CD</th>\n",
       "      <th>FREQlow</th>\n",
       "      <th>FREQupper</th>\n",
       "      <th>N</th>\n",
       "      <th>OLD20</th>\n",
       "      <th>Length</th>\n",
       "      <th>SUBTLEX_WF_full</th>\n",
       "    </tr>\n",
       "  </thead>\n",
       "  <tbody>\n",
       "    <tr>\n",
       "      <th>0</th>\n",
       "      <td>1</td>\n",
       "      <td>Ααρών</td>\n",
       "      <td>161</td>\n",
       "      <td>32</td>\n",
       "      <td>6.9513</td>\n",
       "      <td>2.2095</td>\n",
       "      <td>0.5810</td>\n",
       "      <td>1.5185</td>\n",
       "      <td>0</td>\n",
       "      <td>161</td>\n",
       "      <td>6</td>\n",
       "      <td>1.60</td>\n",
       "      <td>5</td>\n",
       "      <td>5.7995</td>\n",
       "    </tr>\n",
       "    <tr>\n",
       "      <th>1</th>\n",
       "      <td>2</td>\n",
       "      <td>αβά</td>\n",
       "      <td>31</td>\n",
       "      <td>1</td>\n",
       "      <td>1.3384</td>\n",
       "      <td>1.5051</td>\n",
       "      <td>0.0182</td>\n",
       "      <td>0.3010</td>\n",
       "      <td>31</td>\n",
       "      <td>0</td>\n",
       "      <td>8</td>\n",
       "      <td>1.15</td>\n",
       "      <td>3</td>\n",
       "      <td>1.1167</td>\n",
       "    </tr>\n",
       "    <tr>\n",
       "      <th>2</th>\n",
       "      <td>3</td>\n",
       "      <td>αβαείο</td>\n",
       "      <td>10</td>\n",
       "      <td>7</td>\n",
       "      <td>0.4318</td>\n",
       "      <td>1.0414</td>\n",
       "      <td>0.1271</td>\n",
       "      <td>0.9031</td>\n",
       "      <td>5</td>\n",
       "      <td>5</td>\n",
       "      <td>1</td>\n",
       "      <td>2.00</td>\n",
       "      <td>6</td>\n",
       "      <td>0.3602</td>\n",
       "    </tr>\n",
       "    <tr>\n",
       "      <th>3</th>\n",
       "      <td>4</td>\n",
       "      <td>Αβαείου</td>\n",
       "      <td>5</td>\n",
       "      <td>3</td>\n",
       "      <td>0.2159</td>\n",
       "      <td>0.7782</td>\n",
       "      <td>0.0545</td>\n",
       "      <td>0.6021</td>\n",
       "      <td>0</td>\n",
       "      <td>5</td>\n",
       "      <td>0</td>\n",
       "      <td>2.35</td>\n",
       "      <td>7</td>\n",
       "      <td>0.1801</td>\n",
       "    </tr>\n",
       "    <tr>\n",
       "      <th>4</th>\n",
       "      <td>5</td>\n",
       "      <td>αβαθή</td>\n",
       "      <td>1</td>\n",
       "      <td>1</td>\n",
       "      <td>0.0432</td>\n",
       "      <td>0.3010</td>\n",
       "      <td>0.0182</td>\n",
       "      <td>0.3010</td>\n",
       "      <td>1</td>\n",
       "      <td>0</td>\n",
       "      <td>4</td>\n",
       "      <td>1.70</td>\n",
       "      <td>5</td>\n",
       "      <td>0.0360</td>\n",
       "    </tr>\n",
       "  </tbody>\n",
       "</table>\n",
       "</div>"
      ],
      "text/plain": [
       "   ID     Word  FREQcount  CD  SUBTLEX_WF  Lg10WF  SUBTLEX_CD  Lg10CD  \\\n",
       "0   1    Ααρών        161  32      6.9513  2.2095      0.5810  1.5185   \n",
       "1   2      αβά         31   1      1.3384  1.5051      0.0182  0.3010   \n",
       "2   3   αβαείο         10   7      0.4318  1.0414      0.1271  0.9031   \n",
       "3   4  Αβαείου          5   3      0.2159  0.7782      0.0545  0.6021   \n",
       "4   5    αβαθή          1   1      0.0432  0.3010      0.0182  0.3010   \n",
       "\n",
       "   FREQlow  FREQupper  N  OLD20  Length  SUBTLEX_WF_full  \n",
       "0        0        161  6   1.60       5           5.7995  \n",
       "1       31          0  8   1.15       3           1.1167  \n",
       "2        5          5  1   2.00       6           0.3602  \n",
       "3        0          5  0   2.35       7           0.1801  \n",
       "4        1          0  4   1.70       5           0.0360  "
      ]
     },
     "execution_count": 15,
     "metadata": {},
     "output_type": "execute_result"
    }
   ],
   "source": [
    "import pandas as pd\n",
    "\n",
    "# For Greek Lex\n",
    "#path = \"/GreekLex2.txt\"\n",
    "#df = pd.read_csv(path, sep=\"\\t\", usecols=range(18))\n",
    "#df = df[['Word', 'SyllLength', 'StressPosition', 'PhonTranscription']]\n",
    "\n",
    "# For SubtLex\n",
    "path = \"/SUBTLEX-GR_restricted.txt\"\n",
    "df = pd.read_csv(path, sep=\"\\t\")\n",
    "\n",
    "# For HelexKids\n",
    "# Was divided by consonant pairs\n",
    "# path = \"/Helex_fv.csv\"\n",
    "# df = pd.read_csv(path, header=None)\n",
    "\n",
    "# For Leipzig News\n",
    "# path = \"/ell_news_2022_1M-words.txt\"\n",
    "# df = pd.read_csv(path, sep=\"\\t\", header=None)\n",
    "\n",
    "#df = df[0]\n",
    "\n",
    "df.head()"
   ]
  },
  {
   "cell_type": "code",
   "execution_count": 7,
   "metadata": {},
   "outputs": [
    {
     "data": {
      "text/plain": [
       "0                                                    !\n",
       "1    \\t13404\\n4\\t$\\t216\\n5\\t%\\t231\\n6\\t&\\t1952\\n7\\t...\n",
       "2                                                  007\n",
       "3                                        11 Δεκεμβρίου\n",
       "4                                         11 Οκτωβρίου\n",
       "Name: 1, dtype: object"
      ]
     },
     "execution_count": 7,
     "metadata": {},
     "output_type": "execute_result"
    }
   ],
   "source": [
    "news_words = df[1]\n",
    "news_words.head()"
   ]
  },
  {
   "cell_type": "code",
   "execution_count": null,
   "metadata": {},
   "outputs": [],
   "source": [
    "df.to_csv('Greek_Wordlist.txt', sep='\\t', index=False)"
   ]
  },
  {
   "cell_type": "code",
   "execution_count": 16,
   "metadata": {},
   "outputs": [],
   "source": [
    "# For SubtLex only\n",
    "prob_disyl = df[df['Length'] <= 7]\n",
    "#prob_disyl.head()\n",
    "#prob_disyl.to_csv('7letter_greekwords.txt', sep='\\t', index=False)\n",
    "#L = ['γ','τ','κ','θ','δ','χ','ν','σ','ζ']\n",
    "#L = ['γκ','ντ']\n",
    "#L = ['ζ','ντ']\n",
    "L = ['μ','ν']\n",
    "con_init = prob_disyl.loc[prob_disyl['Word'].str.startswith(tuple(L)), 'Word']\n",
    "con_init.to_csv('distractor_mn.txt', sep='\\t', index=False)"
   ]
  },
  {
   "cell_type": "code",
   "execution_count": 14,
   "metadata": {},
   "outputs": [
    {
     "ename": "AttributeError",
     "evalue": "'str' object has no attribute 'loc'",
     "output_type": "error",
     "traceback": [
      "\u001b[1;31m---------------------------------------------------------------------------\u001b[0m",
      "\u001b[1;31mAttributeError\u001b[0m                            Traceback (most recent call last)",
      "Cell \u001b[1;32mIn[14], line 6\u001b[0m\n\u001b[0;32m      3\u001b[0m \u001b[38;5;66;03m#L = ['γ','τ','κ','θ','δ','χ','ν','σ','ζ']\u001b[39;00m\n\u001b[0;32m      4\u001b[0m \u001b[38;5;66;03m#L = ['ζ','ντ']\u001b[39;00m\n\u001b[0;32m      5\u001b[0m L \u001b[38;5;241m=\u001b[39m [\u001b[38;5;124m'\u001b[39m\u001b[38;5;124mφ\u001b[39m\u001b[38;5;124m'\u001b[39m,\u001b[38;5;124m'\u001b[39m\u001b[38;5;124mβ\u001b[39m\u001b[38;5;124m'\u001b[39m]\n\u001b[1;32m----> 6\u001b[0m target \u001b[38;5;241m=\u001b[39m \u001b[43mdf\u001b[49m\u001b[38;5;241;43m.\u001b[39;49m\u001b[43mloc\u001b[49m[df\u001b[38;5;241m.\u001b[39mstr\u001b[38;5;241m.\u001b[39mstartswith(\u001b[38;5;28mtuple\u001b[39m(L))]\n\u001b[0;32m      7\u001b[0m target\u001b[38;5;241m.\u001b[39mto_csv(\u001b[38;5;124m'\u001b[39m\u001b[38;5;124mdistractor_helex_fv.txt\u001b[39m\u001b[38;5;124m'\u001b[39m, sep\u001b[38;5;241m=\u001b[39m\u001b[38;5;124m'\u001b[39m\u001b[38;5;130;01m\\t\u001b[39;00m\u001b[38;5;124m'\u001b[39m, index\u001b[38;5;241m=\u001b[39m\u001b[38;5;28;01mFalse\u001b[39;00m)\n",
      "\u001b[1;31mAttributeError\u001b[0m: 'str' object has no attribute 'loc'"
     ]
    }
   ],
   "source": [
    "# For Helex\n",
    "df = df[0]\n",
    "#L = ['γ','τ','κ','θ','δ','χ','ν','σ','ζ']\n",
    "#L = ['ζ','ντ']\n",
    "L = ['φ','β']\n",
    "target = df.loc[df.str.startswith(tuple(L))]\n",
    "target.to_csv('distractor_helex_fv.txt', sep='\\t', index=False)"
   ]
  },
  {
   "cell_type": "code",
   "execution_count": 8,
   "metadata": {},
   "outputs": [],
   "source": [
    "# For Leipzig News\n",
    "#L = ['γ','τ','κ','θ','δ','χ','ν','σ','ζ']\n",
    "#L = ['γκ','ντ']\n",
    "L = ['φ','β']\n",
    "news_targets = news_words.loc[news_words.str.startswith(tuple(L))]"
   ]
  },
  {
   "cell_type": "code",
   "execution_count": 9,
   "metadata": {},
   "outputs": [
    {
     "data": {
      "text/plain": [
       "260              βίαιης\n",
       "261       βασανιστηρίων\n",
       "262           βασιλικών\n",
       "263                  βλ\n",
       "264    βορειοανατολικής\n",
       "Name: 1, dtype: object"
      ]
     },
     "execution_count": 9,
     "metadata": {},
     "output_type": "execute_result"
    }
   ],
   "source": [
    "news_targets.to_csv('ell_news_fv.txt', index=False)\n",
    "news_targets.head()"
   ]
  },
  {
   "cell_type": "code",
   "execution_count": 2,
   "metadata": {},
   "outputs": [
    {
     "data": {
      "text/html": [
       "<div>\n",
       "<style scoped>\n",
       "    .dataframe tbody tr th:only-of-type {\n",
       "        vertical-align: middle;\n",
       "    }\n",
       "\n",
       "    .dataframe tbody tr th {\n",
       "        vertical-align: top;\n",
       "    }\n",
       "\n",
       "    .dataframe thead th {\n",
       "        text-align: right;\n",
       "    }\n",
       "</style>\n",
       "<table border=\"1\" class=\"dataframe\">\n",
       "  <thead>\n",
       "    <tr style=\"text-align: right;\">\n",
       "      <th></th>\n",
       "      <th>Word</th>\n",
       "      <th>SyllLength</th>\n",
       "      <th>StressPosition</th>\n",
       "      <th>PhonTranscription</th>\n",
       "    </tr>\n",
       "  </thead>\n",
       "  <tbody>\n",
       "    <tr>\n",
       "      <th>53</th>\n",
       "      <td>άγω</td>\n",
       "      <td>2</td>\n",
       "      <td>2</td>\n",
       "      <td>άJo</td>\n",
       "    </tr>\n",
       "    <tr>\n",
       "      <th>54</th>\n",
       "      <td>αεί</td>\n",
       "      <td>2</td>\n",
       "      <td>1</td>\n",
       "      <td>aί</td>\n",
       "    </tr>\n",
       "    <tr>\n",
       "      <th>55</th>\n",
       "      <td>αλά</td>\n",
       "      <td>2</td>\n",
       "      <td>1</td>\n",
       "      <td>alά</td>\n",
       "    </tr>\n",
       "    <tr>\n",
       "      <th>56</th>\n",
       "      <td>αλί</td>\n",
       "      <td>2</td>\n",
       "      <td>1</td>\n",
       "      <td>alί</td>\n",
       "    </tr>\n",
       "    <tr>\n",
       "      <th>58</th>\n",
       "      <td>άμα</td>\n",
       "      <td>2</td>\n",
       "      <td>2</td>\n",
       "      <td>άma</td>\n",
       "    </tr>\n",
       "  </tbody>\n",
       "</table>\n",
       "</div>"
      ],
      "text/plain": [
       "   Word  SyllLength StressPosition PhonTranscription\n",
       "53  άγω           2              2               άJo\n",
       "54  αεί           2              1                aί\n",
       "55  αλά           2              1               alά\n",
       "56  αλί           2              1               alί\n",
       "58  άμα           2              2               άma"
      ]
     },
     "execution_count": 2,
     "metadata": {},
     "output_type": "execute_result"
    }
   ],
   "source": [
    "disyllabic = df[df['SyllLength'] == 2]\n",
    "\n",
    "disyllabic.head()"
   ]
  },
  {
   "cell_type": "code",
   "execution_count": 3,
   "metadata": {},
   "outputs": [
    {
     "data": {
      "text/html": [
       "<div>\n",
       "<style scoped>\n",
       "    .dataframe tbody tr th:only-of-type {\n",
       "        vertical-align: middle;\n",
       "    }\n",
       "\n",
       "    .dataframe tbody tr th {\n",
       "        vertical-align: top;\n",
       "    }\n",
       "\n",
       "    .dataframe thead th {\n",
       "        text-align: right;\n",
       "    }\n",
       "</style>\n",
       "<table border=\"1\" class=\"dataframe\">\n",
       "  <thead>\n",
       "    <tr style=\"text-align: right;\">\n",
       "      <th></th>\n",
       "      <th>Word</th>\n",
       "      <th>SyllLength</th>\n",
       "      <th>StressPosition</th>\n",
       "      <th>PhonTranscription</th>\n",
       "    </tr>\n",
       "  </thead>\n",
       "  <tbody>\n",
       "    <tr>\n",
       "      <th>8244</th>\n",
       "      <td>μούντζα</td>\n",
       "      <td>2</td>\n",
       "      <td>2</td>\n",
       "      <td>mύdza</td>\n",
       "    </tr>\n",
       "    <tr>\n",
       "      <th>8246</th>\n",
       "      <td>μούρλια</td>\n",
       "      <td>2</td>\n",
       "      <td>2</td>\n",
       "      <td>mύrLa</td>\n",
       "    </tr>\n",
       "    <tr>\n",
       "      <th>8250</th>\n",
       "      <td>μούσκλι</td>\n",
       "      <td>2</td>\n",
       "      <td>2</td>\n",
       "      <td>mύskli</td>\n",
       "    </tr>\n",
       "    <tr>\n",
       "      <th>8251</th>\n",
       "      <td>μούστος</td>\n",
       "      <td>2</td>\n",
       "      <td>2</td>\n",
       "      <td>mύstos</td>\n",
       "    </tr>\n",
       "    <tr>\n",
       "      <th>8252</th>\n",
       "      <td>μούτσος</td>\n",
       "      <td>2</td>\n",
       "      <td>2</td>\n",
       "      <td>mύtsos</td>\n",
       "    </tr>\n",
       "  </tbody>\n",
       "</table>\n",
       "</div>"
      ],
      "text/plain": [
       "         Word  SyllLength StressPosition PhonTranscription\n",
       "8244  μούντζα           2              2             mύdza\n",
       "8246  μούρλια           2              2             mύrLa\n",
       "8250  μούσκλι           2              2            mύskli\n",
       "8251  μούστος           2              2            mύstos\n",
       "8252  μούτσος           2              2            mύtsos"
      ]
     },
     "execution_count": 3,
     "metadata": {},
     "output_type": "execute_result"
    }
   ],
   "source": [
    "word_initial = disyllabic[disyllabic['StressPosition'] == 2]\n",
    "\n",
    "word_initial.head()"
   ]
  },
  {
   "cell_type": "code",
   "execution_count": 14,
   "metadata": {},
   "outputs": [
    {
     "name": "stdout",
     "output_type": "stream",
     "text": [
      "161\n"
     ]
    }
   ],
   "source": [
    "init_disyl = df.loc[(df['SyllLength'] == 2) & (df['StressPosition'] == 2)]\n",
    "\n",
    "print(len(init_disyl))\n",
    "init_disyl.head()\n",
    "init_disyl.to_csv('Greek_Wordlist.txt', sep='\\t', index=False)"
   ]
  }
 ],
 "metadata": {
  "kernelspec": {
   "display_name": "Python 3",
   "language": "python",
   "name": "python3"
  },
  "language_info": {
   "codemirror_mode": {
    "name": "ipython",
    "version": 3
   },
   "file_extension": ".py",
   "mimetype": "text/x-python",
   "name": "python",
   "nbconvert_exporter": "python",
   "pygments_lexer": "ipython3",
   "version": "3.12.0"
  }
 },
 "nbformat": 4,
 "nbformat_minor": 2
}
