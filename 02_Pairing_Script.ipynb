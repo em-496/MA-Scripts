{
 "cells": [
  {
   "cell_type": "markdown",
   "metadata": {},
   "source": [
    "# Pairing Script\n",
    "\n",
    "Imports the output from the corpus search and tries to find pairs of words that differ only by the first consonant, or first syllable for allophones. All of these need to be manually checked for suitability."
   ]
  },
  {
   "cell_type": "code",
   "execution_count": 2,
   "metadata": {},
   "outputs": [
    {
     "name": "stdout",
     "output_type": "stream",
     "text": [
      "['νταλίκα', 'γκαζάκια', 'γκάμας', 'γκέλα', 'ντουλάπι']\n"
     ]
    }
   ],
   "source": [
    "import pandas as pd\n",
    "\n",
    "# Change the text file to the appropriate corpus output\n",
    "df = pd.read_csv(\"ell_news_clusttargets.txt\", header=None)\n",
    "df = df[0]\n",
    "word_list = df.tolist()\n",
    "print(word_list[:5])"
   ]
  },
  {
   "cell_type": "markdown",
   "metadata": {},
   "source": [
    "## Finding Pairs"
   ]
  },
  {
   "cell_type": "code",
   "execution_count": 3,
   "metadata": {},
   "outputs": [
    {
     "name": "stdout",
     "output_type": "stream",
     "text": [
      "[['γκάμας', 'ντάμας'], ['γκέλα', 'ντέλα'], ['ντελ', 'γκελ'], ['ντι', 'γκι'], ['γκι', 'ντι']]\n"
     ]
    }
   ],
   "source": [
    "# Two nested loops, one going forward and one backward through the list, compares\n",
    "# If everything after the first consonant is identical, probably minimal pair added to new list\n",
    "pairs_list = list()\n",
    "for i in range(0, len(word_list)-1):\n",
    "    a = word_list[i]\n",
    "    for n in range(0, len(word_list)-1):\n",
    "        b = word_list[n]\n",
    "        if a[2:] == b[2:] and a[0] != b[0]:\n",
    "            pairs_list.append([a, b])\n",
    "\n",
    "print(pairs_list[:5])"
   ]
  },
  {
   "cell_type": "code",
   "execution_count": 4,
   "metadata": {},
   "outputs": [],
   "source": [
    "# Drops any duplicates\n",
    "drop_pairs = list()\n",
    "for i in pairs_list:\n",
    "    if i not in drop_pairs:\n",
    "        drop_pairs.append(i)\n"
   ]
  },
  {
   "cell_type": "code",
   "execution_count": 8,
   "metadata": {},
   "outputs": [],
   "source": [
    "# Creates a new file, adds the pairs and saves\n",
    "file = open(\"ell_news_clustpairs.txt\", \"w\", encoding=\"utf-8\")\n",
    "for elem in drop_pairs:\n",
    "    file.write(str(elem) + \"\\n\")\n",
    "file.close()"
   ]
  },
  {
   "cell_type": "markdown",
   "metadata": {},
   "source": [
    "## Finding Allophonic Pairs"
   ]
  },
  {
   "cell_type": "code",
   "execution_count": 9,
   "metadata": {},
   "outputs": [
    {
     "name": "stdout",
     "output_type": "stream",
     "text": [
      "[['δέσιμο', 'δόσιμο'], ['διέπουν', 'δρέπουν'], ['κάμπο', 'κόμπο'], ['κοψίματα', 'καψίματα'], ['σπάσουμε', 'σκάσουμε']]\n"
     ]
    }
   ],
   "source": [
    "# As above, but everything after the first two letters identical - most are not CV\n",
    "allos_list = list()\n",
    "for i in range(0, len(word_list)-1):\n",
    "    a = word_list[i]\n",
    "    for n in range(0, len(word_list)-1):\n",
    "        b = word_list[n]\n",
    "        if a[2:] == b[2:] and a[0] == b[0] and a != b:\n",
    "            allos_list.append([a, b])\n",
    "\n",
    "print(allos_list[:5])"
   ]
  },
  {
   "cell_type": "code",
   "execution_count": 10,
   "metadata": {},
   "outputs": [],
   "source": [
    "# Drops duplicates and saves to a file\n",
    "drop_allos = list()\n",
    "\n",
    "for c in allos_list:\n",
    "    if c not in drop_allos:\n",
    "        drop_allos.append(c)\n",
    "\n",
    "file = open(\"ell_news_allos.txt\", \"w\", encoding=\"utf-8\")\n",
    "for elem in drop_allos:\n",
    "    file.write(str(elem) + \"\\n\")\n",
    "file.close()"
   ]
  }
 ],
 "metadata": {
  "kernelspec": {
   "display_name": "Python 3",
   "language": "python",
   "name": "python3"
  },
  "language_info": {
   "codemirror_mode": {
    "name": "ipython",
    "version": 3
   },
   "file_extension": ".py",
   "mimetype": "text/x-python",
   "name": "python",
   "nbconvert_exporter": "python",
   "pygments_lexer": "ipython3",
   "version": "3.12.0"
  }
 },
 "nbformat": 4,
 "nbformat_minor": 2
}
